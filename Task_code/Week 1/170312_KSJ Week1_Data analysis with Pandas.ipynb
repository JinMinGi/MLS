{
 "cells": [
  {
   "cell_type": "code",
   "execution_count": 395,
   "metadata": {
    "collapsed": false
   },
   "outputs": [],
   "source": [
    "import pandas as pd\n",
    "import numpy as np\n",
    "import re"
   ]
  },
  {
   "cell_type": "code",
   "execution_count": 396,
   "metadata": {
    "collapsed": false
   },
   "outputs": [],
   "source": [
    "df = pd.read_csv(\"raw_data/3-Airplane_Crashes_Since_1908.txt\")"
   ]
  },
  {
   "cell_type": "markdown",
   "metadata": {},
   "source": [
    "## dataframe "
   ]
  },
  {
   "cell_type": "code",
   "execution_count": 397,
   "metadata": {
    "collapsed": false
   },
   "outputs": [
    {
     "data": {
      "text/html": [
       "<div>\n",
       "<table border=\"1\" class=\"dataframe\">\n",
       "  <thead>\n",
       "    <tr style=\"text-align: right;\">\n",
       "      <th></th>\n",
       "      <th>Date</th>\n",
       "      <th>Time</th>\n",
       "      <th>Location</th>\n",
       "      <th>Operator</th>\n",
       "      <th>Flight #</th>\n",
       "      <th>Route</th>\n",
       "      <th>Type</th>\n",
       "      <th>Registration</th>\n",
       "      <th>cn/In</th>\n",
       "      <th>Aboard</th>\n",
       "      <th>Fatalities</th>\n",
       "      <th>Ground</th>\n",
       "      <th>Summary</th>\n",
       "    </tr>\n",
       "  </thead>\n",
       "  <tbody>\n",
       "    <tr>\n",
       "      <th>0</th>\n",
       "      <td>09/17/1908</td>\n",
       "      <td>17:18</td>\n",
       "      <td>Fort Myer, Virginia</td>\n",
       "      <td>Military - U.S. Army</td>\n",
       "      <td>NaN</td>\n",
       "      <td>Demonstration</td>\n",
       "      <td>Wright Flyer III</td>\n",
       "      <td>NaN</td>\n",
       "      <td>1</td>\n",
       "      <td>2.0</td>\n",
       "      <td>1.0</td>\n",
       "      <td>0.0</td>\n",
       "      <td>During a demonstration flight, a U.S. Army fly...</td>\n",
       "    </tr>\n",
       "    <tr>\n",
       "      <th>1</th>\n",
       "      <td>07/12/1912</td>\n",
       "      <td>06:30</td>\n",
       "      <td>AtlantiCity, New Jersey</td>\n",
       "      <td>Military - U.S. Navy</td>\n",
       "      <td>NaN</td>\n",
       "      <td>Test flight</td>\n",
       "      <td>Dirigible</td>\n",
       "      <td>NaN</td>\n",
       "      <td>NaN</td>\n",
       "      <td>5.0</td>\n",
       "      <td>5.0</td>\n",
       "      <td>0.0</td>\n",
       "      <td>First U.S. dirigible Akron exploded just offsh...</td>\n",
       "    </tr>\n",
       "    <tr>\n",
       "      <th>2</th>\n",
       "      <td>08/06/1913</td>\n",
       "      <td>NaN</td>\n",
       "      <td>Victoria, British Columbia, Canada</td>\n",
       "      <td>Private</td>\n",
       "      <td>-</td>\n",
       "      <td>NaN</td>\n",
       "      <td>Curtiss seaplane</td>\n",
       "      <td>NaN</td>\n",
       "      <td>NaN</td>\n",
       "      <td>1.0</td>\n",
       "      <td>1.0</td>\n",
       "      <td>0.0</td>\n",
       "      <td>The first fatal airplane accident in Canada oc...</td>\n",
       "    </tr>\n",
       "    <tr>\n",
       "      <th>3</th>\n",
       "      <td>09/09/1913</td>\n",
       "      <td>18:30</td>\n",
       "      <td>Over the North Sea</td>\n",
       "      <td>Military - German Navy</td>\n",
       "      <td>NaN</td>\n",
       "      <td>NaN</td>\n",
       "      <td>Zeppelin L-1 (airship)</td>\n",
       "      <td>NaN</td>\n",
       "      <td>NaN</td>\n",
       "      <td>20.0</td>\n",
       "      <td>14.0</td>\n",
       "      <td>0.0</td>\n",
       "      <td>The airship flew into a thunderstorm and encou...</td>\n",
       "    </tr>\n",
       "    <tr>\n",
       "      <th>4</th>\n",
       "      <td>10/17/1913</td>\n",
       "      <td>10:30</td>\n",
       "      <td>Near Johannisthal, Germany</td>\n",
       "      <td>Military - German Navy</td>\n",
       "      <td>NaN</td>\n",
       "      <td>NaN</td>\n",
       "      <td>Zeppelin L-2 (airship)</td>\n",
       "      <td>NaN</td>\n",
       "      <td>NaN</td>\n",
       "      <td>30.0</td>\n",
       "      <td>30.0</td>\n",
       "      <td>0.0</td>\n",
       "      <td>Hydrogen gas which was being vented was sucked...</td>\n",
       "    </tr>\n",
       "  </tbody>\n",
       "</table>\n",
       "</div>"
      ],
      "text/plain": [
       "         Date   Time                            Location  \\\n",
       "0  09/17/1908  17:18                 Fort Myer, Virginia   \n",
       "1  07/12/1912  06:30             AtlantiCity, New Jersey   \n",
       "2  08/06/1913    NaN  Victoria, British Columbia, Canada   \n",
       "3  09/09/1913  18:30                  Over the North Sea   \n",
       "4  10/17/1913  10:30          Near Johannisthal, Germany   \n",
       "\n",
       "                 Operator Flight #          Route                    Type  \\\n",
       "0    Military - U.S. Army      NaN  Demonstration        Wright Flyer III   \n",
       "1    Military - U.S. Navy      NaN    Test flight               Dirigible   \n",
       "2                 Private        -            NaN        Curtiss seaplane   \n",
       "3  Military - German Navy      NaN            NaN  Zeppelin L-1 (airship)   \n",
       "4  Military - German Navy      NaN            NaN  Zeppelin L-2 (airship)   \n",
       "\n",
       "  Registration cn/In  Aboard  Fatalities  Ground  \\\n",
       "0          NaN     1     2.0         1.0     0.0   \n",
       "1          NaN   NaN     5.0         5.0     0.0   \n",
       "2          NaN   NaN     1.0         1.0     0.0   \n",
       "3          NaN   NaN    20.0        14.0     0.0   \n",
       "4          NaN   NaN    30.0        30.0     0.0   \n",
       "\n",
       "                                             Summary  \n",
       "0  During a demonstration flight, a U.S. Army fly...  \n",
       "1  First U.S. dirigible Akron exploded just offsh...  \n",
       "2  The first fatal airplane accident in Canada oc...  \n",
       "3  The airship flew into a thunderstorm and encou...  \n",
       "4  Hydrogen gas which was being vented was sucked...  "
      ]
     },
     "execution_count": 397,
     "metadata": {},
     "output_type": "execute_result"
    }
   ],
   "source": [
    "df.head()"
   ]
  },
  {
   "cell_type": "markdown",
   "metadata": {},
   "source": [
    "## Easy~Normal 난이도 : "
   ]
  },
  {
   "cell_type": "markdown",
   "metadata": {},
   "source": [
    "### 1. 전체 추락 사고 횟수 및 평균 생존율 산출하기"
   ]
  },
  {
   "cell_type": "code",
   "execution_count": 360,
   "metadata": {
    "collapsed": false
   },
   "outputs": [
    {
     "data": {
      "text/plain": [
       "5268"
      ]
     },
     "execution_count": 360,
     "metadata": {},
     "output_type": "execute_result"
    }
   ],
   "source": [
    "#전체 추락 사고 횟수\n",
    "df.shape[0] "
   ]
  },
  {
   "cell_type": "code",
   "execution_count": 361,
   "metadata": {
    "collapsed": false
   },
   "outputs": [
    {
     "data": {
      "text/plain": [
       "27.029906399817367"
      ]
     },
     "execution_count": 361,
     "metadata": {},
     "output_type": "execute_result"
    }
   ],
   "source": [
    "# 평균 생존율 \n",
    "avg_life = (df.Aboard.sum() - df.Fatalities.sum()) / df.Aboard.sum() * 100\n",
    "avg_life"
   ]
  },
  {
   "cell_type": "markdown",
   "metadata": {},
   "source": [
    "### 2.연 단위로 총 몇 건의 추락 사고가 있었는지, 몇 명이 탑승했는지, 몇 명이 사망했는지, 몇 명이 생존했는지 산출하기"
   ]
  },
  {
   "cell_type": "code",
   "execution_count": 362,
   "metadata": {
    "collapsed": false
   },
   "outputs": [],
   "source": [
    "df[\"Month\"] = df[\"Date\"].map(lambda x: x.split('/',3)[0])\n",
    "df[\"Day\"]   = df[\"Date\"].map(lambda x: x.split('/',3)[1])\n",
    "df[\"Year\"]  = df[\"Date\"].map(lambda x: x.split('/',3)[2])"
   ]
  },
  {
   "cell_type": "markdown",
   "metadata": {},
   "source": [
    "#### 연 단위 분석"
   ]
  },
  {
   "cell_type": "code",
   "execution_count": 372,
   "metadata": {
    "collapsed": false
   },
   "outputs": [],
   "source": [
    "year_list = df[\"Year\"].unique()\n",
    "result_year = pd.DataFrame(index = year_list, columns = [\"Count\",\"Aboard\",\"Fatalities\",\"Survive\"] )\n",
    "for year in year_list:\n",
    "    temp = df[df[\"year\"]==year]\n",
    "    result_year.ix[year][\"Count\"]  = temp[\"year\"].count()\n",
    "    result_year.ix[year][\"Aboard\"] = temp[\"Aboard\"].sum()\n",
    "    result_year.ix[year][\"Fatalities\"] = temp[\"Fatalities\"].sum()\n",
    "    result_year.ix[year][\"Survive\"] = result_year.ix[year][\"Aboard\"] - result_year.ix[year][\"Fatalities\"]"
   ]
  },
  {
   "cell_type": "code",
   "execution_count": 373,
   "metadata": {
    "collapsed": false
   },
   "outputs": [
    {
     "data": {
      "text/html": [
       "<div>\n",
       "<table border=\"1\" class=\"dataframe\">\n",
       "  <thead>\n",
       "    <tr style=\"text-align: right;\">\n",
       "      <th></th>\n",
       "      <th>Count</th>\n",
       "      <th>Aboard</th>\n",
       "      <th>Fatalities</th>\n",
       "      <th>Survive</th>\n",
       "    </tr>\n",
       "  </thead>\n",
       "  <tbody>\n",
       "    <tr>\n",
       "      <th>1908</th>\n",
       "      <td>1</td>\n",
       "      <td>2</td>\n",
       "      <td>1</td>\n",
       "      <td>1</td>\n",
       "    </tr>\n",
       "    <tr>\n",
       "      <th>1912</th>\n",
       "      <td>1</td>\n",
       "      <td>5</td>\n",
       "      <td>5</td>\n",
       "      <td>0</td>\n",
       "    </tr>\n",
       "    <tr>\n",
       "      <th>1913</th>\n",
       "      <td>3</td>\n",
       "      <td>51</td>\n",
       "      <td>45</td>\n",
       "      <td>6</td>\n",
       "    </tr>\n",
       "    <tr>\n",
       "      <th>1915</th>\n",
       "      <td>2</td>\n",
       "      <td>60</td>\n",
       "      <td>40</td>\n",
       "      <td>20</td>\n",
       "    </tr>\n",
       "    <tr>\n",
       "      <th>1916</th>\n",
       "      <td>5</td>\n",
       "      <td>109</td>\n",
       "      <td>108</td>\n",
       "      <td>1</td>\n",
       "    </tr>\n",
       "  </tbody>\n",
       "</table>\n",
       "</div>"
      ],
      "text/plain": [
       "     Count Aboard Fatalities Survive\n",
       "1908     1      2          1       1\n",
       "1912     1      5          5       0\n",
       "1913     3     51         45       6\n",
       "1915     2     60         40      20\n",
       "1916     5    109        108       1"
      ]
     },
     "execution_count": 373,
     "metadata": {},
     "output_type": "execute_result"
    }
   ],
   "source": [
    "result_year.head()"
   ]
  },
  {
   "cell_type": "markdown",
   "metadata": {},
   "source": [
    "#### 월 단위 분석"
   ]
  },
  {
   "cell_type": "code",
   "execution_count": 374,
   "metadata": {
    "collapsed": true
   },
   "outputs": [],
   "source": [
    "month_list = df[\"Month\"].unique()\n",
    "result_month = pd.DataFrame(index = month_list, columns = [\"Count\",\"Aboard\",\"Fatalities\",\"Survive\"] )\n",
    "for month in month_list:\n",
    "    temp = df[df[\"Month\"] == month]\n",
    "    result_month.ix[month][\"Count\"]  = temp[\"Aboard\"].count()\n",
    "    result_month.ix[month][\"Aboard\"] = temp[\"Aboard\"].sum()\n",
    "    result_month.ix[month][\"Fatalities\"] = temp[\"Fatalities\"].sum()\n",
    "    result_month.ix[month][\"Survive\"] = result_month.ix[month][\"Aboard\"] - result_month.ix[month][\"Fatalities\"]"
   ]
  },
  {
   "cell_type": "code",
   "execution_count": 375,
   "metadata": {
    "collapsed": false
   },
   "outputs": [
    {
     "data": {
      "text/html": [
       "<div>\n",
       "<table border=\"1\" class=\"dataframe\">\n",
       "  <thead>\n",
       "    <tr style=\"text-align: right;\">\n",
       "      <th></th>\n",
       "      <th>Count</th>\n",
       "      <th>Aboard</th>\n",
       "      <th>Fatalities</th>\n",
       "      <th>Survive</th>\n",
       "    </tr>\n",
       "  </thead>\n",
       "  <tbody>\n",
       "    <tr>\n",
       "      <th>09</th>\n",
       "      <td>457</td>\n",
       "      <td>13528</td>\n",
       "      <td>10286</td>\n",
       "      <td>3242</td>\n",
       "    </tr>\n",
       "    <tr>\n",
       "      <th>07</th>\n",
       "      <td>427</td>\n",
       "      <td>13182</td>\n",
       "      <td>9232</td>\n",
       "      <td>3950</td>\n",
       "    </tr>\n",
       "    <tr>\n",
       "      <th>08</th>\n",
       "      <td>472</td>\n",
       "      <td>13953</td>\n",
       "      <td>10174</td>\n",
       "      <td>3779</td>\n",
       "    </tr>\n",
       "    <tr>\n",
       "      <th>10</th>\n",
       "      <td>452</td>\n",
       "      <td>10771</td>\n",
       "      <td>8388</td>\n",
       "      <td>2383</td>\n",
       "    </tr>\n",
       "    <tr>\n",
       "      <th>03</th>\n",
       "      <td>452</td>\n",
       "      <td>11064</td>\n",
       "      <td>8708</td>\n",
       "      <td>2356</td>\n",
       "    </tr>\n",
       "  </tbody>\n",
       "</table>\n",
       "</div>"
      ],
      "text/plain": [
       "   Count Aboard Fatalities Survive\n",
       "09   457  13528      10286    3242\n",
       "07   427  13182       9232    3950\n",
       "08   472  13953      10174    3779\n",
       "10   452  10771       8388    2383\n",
       "03   452  11064       8708    2356"
      ]
     },
     "execution_count": 375,
     "metadata": {},
     "output_type": "execute_result"
    }
   ],
   "source": [
    "result_month.head()"
   ]
  },
  {
   "cell_type": "markdown",
   "metadata": {},
   "source": [
    "#### 일 단위 분석"
   ]
  },
  {
   "cell_type": "code",
   "execution_count": 376,
   "metadata": {
    "collapsed": true
   },
   "outputs": [],
   "source": [
    "day_list = df[\"Day\"].unique()\n",
    "result_day = pd.DataFrame(index = day_list, columns = [\"Count\",\"Aboard\",\"Fatalities\",\"Survive\"] )\n",
    "for day in day_list:\n",
    "    temp = df[df[\"Month\"] == day]\n",
    "    result_day.ix[day][\"Count\"]  = temp[\"Aboard\"].count()\n",
    "    result_day.ix[day][\"Aboard\"] = temp[\"Aboard\"].sum()\n",
    "    result_day.ix[day][\"Fatalities\"] = temp[\"Fatalities\"].sum()\n",
    "    result_day.ix[day][\"Survive\"] = result_day.ix[day][\"Aboard\"] - result_day.ix[day][\"Fatalities\"]"
   ]
  },
  {
   "cell_type": "code",
   "execution_count": 377,
   "metadata": {
    "collapsed": false
   },
   "outputs": [
    {
     "data": {
      "text/html": [
       "<div>\n",
       "<table border=\"1\" class=\"dataframe\">\n",
       "  <thead>\n",
       "    <tr style=\"text-align: right;\">\n",
       "      <th></th>\n",
       "      <th>Count</th>\n",
       "      <th>Aboard</th>\n",
       "      <th>Fatalities</th>\n",
       "      <th>Survive</th>\n",
       "    </tr>\n",
       "  </thead>\n",
       "  <tbody>\n",
       "    <tr>\n",
       "      <th>17</th>\n",
       "      <td>0</td>\n",
       "      <td>0</td>\n",
       "      <td>0</td>\n",
       "      <td>0</td>\n",
       "    </tr>\n",
       "    <tr>\n",
       "      <th>12</th>\n",
       "      <td>514</td>\n",
       "      <td>15646</td>\n",
       "      <td>10459</td>\n",
       "      <td>5187</td>\n",
       "    </tr>\n",
       "    <tr>\n",
       "      <th>06</th>\n",
       "      <td>385</td>\n",
       "      <td>11607</td>\n",
       "      <td>7909</td>\n",
       "      <td>3698</td>\n",
       "    </tr>\n",
       "    <tr>\n",
       "      <th>09</th>\n",
       "      <td>457</td>\n",
       "      <td>13528</td>\n",
       "      <td>10286</td>\n",
       "      <td>3242</td>\n",
       "    </tr>\n",
       "    <tr>\n",
       "      <th>05</th>\n",
       "      <td>369</td>\n",
       "      <td>9743</td>\n",
       "      <td>7130</td>\n",
       "      <td>2613</td>\n",
       "    </tr>\n",
       "  </tbody>\n",
       "</table>\n",
       "</div>"
      ],
      "text/plain": [
       "   Count Aboard Fatalities Survive\n",
       "17     0      0          0       0\n",
       "12   514  15646      10459    5187\n",
       "06   385  11607       7909    3698\n",
       "09   457  13528      10286    3242\n",
       "05   369   9743       7130    2613"
      ]
     },
     "execution_count": 377,
     "metadata": {},
     "output_type": "execute_result"
    }
   ],
   "source": [
    "result_day.head()"
   ]
  },
  {
   "cell_type": "markdown",
   "metadata": {},
   "source": [
    "### 3. 추락 사고 횟수 기준 Top 15 Operator, Type, Location 각각 산출하기"
   ]
  },
  {
   "cell_type": "markdown",
   "metadata": {},
   "source": [
    "#### Top 15 Operator"
   ]
  },
  {
   "cell_type": "code",
   "execution_count": 378,
   "metadata": {
    "collapsed": false
   },
   "outputs": [
    {
     "data": {
      "text/plain": [
       "Aeroflot                               179\n",
       "Military - U.S. Air Force              176\n",
       "Air France                              70\n",
       "Deutsche Lufthansa                      65\n",
       "Air Taxi                                44\n",
       "China National Aviation Corporation     44\n",
       "United Air Lines                        44\n",
       "Military - U.S. Army Air Forces         43\n",
       "Pan American World Airways              41\n",
       "US Aerial Mail Service                  36\n",
       "Military - U.S. Navy                    36\n",
       "Military - Royal Air Force              36\n",
       "American Airlines                       36\n",
       "Indian Airlines                         34\n",
       "Philippine Air Lines                    33\n",
       "Name: Operator, dtype: int64"
      ]
     },
     "execution_count": 378,
     "metadata": {},
     "output_type": "execute_result"
    }
   ],
   "source": [
    "df[\"Operator\"].value_counts()[:15]"
   ]
  },
  {
   "cell_type": "markdown",
   "metadata": {},
   "source": [
    "#### Top 15 Type"
   ]
  },
  {
   "cell_type": "code",
   "execution_count": 137,
   "metadata": {
    "collapsed": false
   },
   "outputs": [
    {
     "data": {
      "text/plain": [
       "Douglas DC-3                                334\n",
       "de Havilland Canada DHC-6 Twin Otter 300     81\n",
       "Douglas C-47A                                74\n",
       "Douglas C-47                                 62\n",
       "Douglas DC-4                                 40\n",
       "Yakovlev YAK-40                              37\n",
       "Antonov AN-26                                36\n",
       "Junkers JU-52/3m                             32\n",
       "Douglas C-47B                                29\n",
       "De Havilland DH-4                            28\n",
       "Douglas DC-6B                                27\n",
       "Breguet 14                                   23\n",
       "Curtiss C-46A                                21\n",
       "Douglas DC-6                                 20\n",
       "Douglas C-47-DL                              20\n",
       "Name: Type, dtype: int64"
      ]
     },
     "execution_count": 137,
     "metadata": {},
     "output_type": "execute_result"
    }
   ],
   "source": [
    "df[\"Type\"].value_counts()[:15]"
   ]
  },
  {
   "cell_type": "markdown",
   "metadata": {},
   "source": [
    "#### Top 15 Location"
   ]
  },
  {
   "cell_type": "code",
   "execution_count": 379,
   "metadata": {
    "collapsed": false
   },
   "outputs": [
    {
     "data": {
      "text/plain": [
       "Sao Paulo, Brazil         15\n",
       "Moscow, Russia            15\n",
       "Rio de Janeiro, Brazil    14\n",
       "Manila, Philippines       13\n",
       "Anchorage, Alaska         13\n",
       "Bogota, Colombia          13\n",
       "New York, New York        12\n",
       "Cairo, Egypt              12\n",
       "Chicago, Illinois         11\n",
       "Near Moscow, Russia        9\n",
       "AtlantiOcean               9\n",
       "Tehran, Iran               9\n",
       "Paris, France              8\n",
       "Denver, Colorado           8\n",
       "Amsterdam, Netherlands     8\n",
       "Name: Location, dtype: int64"
      ]
     },
     "execution_count": 379,
     "metadata": {},
     "output_type": "execute_result"
    }
   ],
   "source": [
    "df[\"Location\"].value_counts()[:15]"
   ]
  },
  {
   "cell_type": "markdown",
   "metadata": {},
   "source": [
    "### 4.추락사고 횟수 기준 Top 3 Operator 별로 가장 많은 사고가 발생한 (연도,월)이 언제였는지 산출하기"
   ]
  },
  {
   "cell_type": "code",
   "execution_count": 380,
   "metadata": {
    "collapsed": true
   },
   "outputs": [],
   "source": [
    "Top3_Operator = df[\"Operator\"].value_counts()[:3].index"
   ]
  },
  {
   "cell_type": "code",
   "execution_count": 381,
   "metadata": {
    "collapsed": false
   },
   "outputs": [
    {
     "name": "stdout",
     "output_type": "stream",
     "text": [
      "Aeroflot 12 1973\n",
      "Military - U.S. Air Force 03 1952\n",
      "Air France 06 1934\n"
     ]
    }
   ],
   "source": [
    "for operator in Top3_Operator:\n",
    "    Top_month = df[df[\"Operator\"]==operator][\"Month\"].value_counts().index[0]\n",
    "    Top_year = df[df[\"Operator\"]==operator][\"Year\"].value_counts().index[0]\n",
    "    print(operator,Top_month,Top_year)"
   ]
  },
  {
   "cell_type": "markdown",
   "metadata": {},
   "source": [
    "### 5.평균 생존율이 높은 Top 100 비행기 Type 도출하기"
   ]
  },
  {
   "cell_type": "code",
   "execution_count": 382,
   "metadata": {
    "collapsed": false
   },
   "outputs": [],
   "source": [
    "type_list = df[\"Type\"].unique()\n",
    "result_type = pd.DataFrame(index = type_list, columns = [\"Avg\"])\n",
    "for t in type_list:\n",
    "    temp = df[df[\"Type\"] == t]\n",
    "    aboard_temp = temp[\"Aboard\"].sum()\n",
    "    fatal_temp  = temp[\"Fatalities\"].sum()\n",
    "    if aboard_temp :\n",
    "        result_type.ix[t][\"Avg\"]= (aboard_temp - fatal_temp ) / aboard_temp *100"
   ]
  },
  {
   "cell_type": "code",
   "execution_count": 389,
   "metadata": {
    "collapsed": false
   },
   "outputs": [
    {
     "data": {
      "text/plain": [
       "['Airbus A-330-243',\n",
       " 'Boeing B-747-SP-09',\n",
       " 'Tupelov Tu-124',\n",
       " 'Sukhoi Su-27',\n",
       " 'Bell UH-1B Huey Helicopter',\n",
       " 'Airbus A-340',\n",
       " 'Cessna 172',\n",
       " 'MDonnell Douglas MD-81',\n",
       " 'Lockheed L-1011',\n",
       " 'Boeing B-737-7H4',\n",
       " 'Boeing B-737-3T5',\n",
       " 'MiG-23',\n",
       " 'Boeing B-767-233ER',\n",
       " 'Chance Vought F-8E',\n",
       " 'Airbus A.320-214',\n",
       " 'Grummand EA-6B',\n",
       " 'BAC One-Eleven 528FL',\n",
       " 'North American F-100D-25NA',\n",
       " 'Boeing B-747-466',\n",
       " 'Boeing  377 Stratocruiser',\n",
       " 'Douglas DC-3 / Cessna 170B',\n",
       " 'GD F-16D / Lockheed C-130E',\n",
       " 'Airbus A320-214',\n",
       " 'F-86 Sabrejet',\n",
       " 'Boeing 777-236ER',\n",
       " 'LTVF-8J',\n",
       " 'Boeing B-747-209BSF',\n",
       " 'McDonnell Douglas DC-9-51',\n",
       " 'Boeing B-737-3T0',\n",
       " 'Boeing B-727-227',\n",
       " 'Ford 5-AT-D Tri-Motor',\n",
       " 'Airbus A.330-301',\n",
       " 'Boeing B-747',\n",
       " 'Airbus A300B2-101',\n",
       " 'Lockheed L-1011-200',\n",
       " 'Boeing B-747-200',\n",
       " 'Boeing B-707-323B',\n",
       " 'Convair CV-880-22M-3',\n",
       " 'Ilyushin IL-18E',\n",
       " 'Airbus A300-600R',\n",
       " 'BAC One-Eleven 516FP',\n",
       " 'McDonnell Douglas MD-90-30',\n",
       " 'Boeing B-737-297',\n",
       " 'Sud-Aviation SE210 Caravelle',\n",
       " 'Airbus A300B2-1C',\n",
       " 'Boeing B-747-122',\n",
       " 'McDonnell Douglas MD-88',\n",
       " 'McDonnell Douglas DC-9-82 / Cessna 441',\n",
       " 'Lockheed L-649 Constellation',\n",
       " 'Boeing B-707-309C',\n",
       " 'BAC One-Eleven 524FF',\n",
       " 'Boeing B-707-138B',\n",
       " 'Boeing B-737-2H7C',\n",
       " 'Tupolev 154M',\n",
       " 'Boeing B-707-3J9C',\n",
       " 'Douglas C-54A-1-DO Skymaster',\n",
       " 'Caravelle VIR',\n",
       " 'Boeing B-737-2C3',\n",
       " 'Convair CV-340/440',\n",
       " 'Boeing B-727',\n",
       " 'Airbus A300',\n",
       " 'Boeing B-707-131',\n",
       " 'Boeing B-747-121',\n",
       " 'Boeing B-737-2A1',\n",
       " 'Vickers Viscount',\n",
       " 'SNCASE SE.2010 Armagnac',\n",
       " 'Convair 580-11A',\n",
       " 'Boeing B-737-401',\n",
       " 'Douglas DC-3-313',\n",
       " 'Boeing 737-200',\n",
       " 'Boeing B-707-131B / L1049C Constellation',\n",
       " 'Boeing B-727-2A7',\n",
       " 'Boeing 377 Stratocruiser',\n",
       " 'Boeing 737-286',\n",
       " 'McDonnell Douglas DC-9 and Cessna 150F',\n",
       " 'Boeing B-707-465',\n",
       " 'de Havilland DH-106 Comet 4',\n",
       " 'Tupolev TU-154B-1',\n",
       " 'Boeing B-727-251 / MD Douglas DC-9-14',\n",
       " 'Canadair CRJ-100ER',\n",
       " 'Fokker F-28 Fellowship 3000RC',\n",
       " 'Let 410UVP-E20',\n",
       " 'Sud Aviation SE 210 Caravelle III',\n",
       " 'Fokker 27 Friendship 200',\n",
       " 'Convair CV-240-4',\n",
       " 'Transall C-160NG',\n",
       " 'Vickers 610 Viking 1B',\n",
       " 'Handley Page HP-81 Hermes IV',\n",
       " 'Channel Air Bridge',\n",
       " 'Lockheed L-749 / Cessna 140',\n",
       " 'Aerospatiale ATR-42-512',\n",
       " 'Vickers 639 Viking 1',\n",
       " 'Boeing 377 Stratocruiser 10-26',\n",
       " 'Handley Page HP-1 Hermes',\n",
       " 'Hawker Siddeley HS-748-435 Srs. 2',\n",
       " 'Boeing 737-2M2',\n",
       " 'Boeing B-737-2F9',\n",
       " 'Boeing B-747-2B5B',\n",
       " 'Antonov 12V',\n",
       " 'MDonnell Dougals DC-9']"
      ]
     },
     "execution_count": 389,
     "metadata": {},
     "output_type": "execute_result"
    }
   ],
   "source": [
    "list(result_type.sort_values(by=\"Avg\",ascending=False).index[:100])"
   ]
  },
  {
   "cell_type": "markdown",
   "metadata": {},
   "source": [
    "### 6.어느 곳에서 비행기가 출발하였을 때 가장 많은 사고가 발생하였는지 산출하기, 어느 곳으로 도착하는 비행기였을 때 가장 많은 사고가 발생하였는지 산출하기"
   ]
  },
  {
   "cell_type": "code",
   "execution_count": 428,
   "metadata": {
    "collapsed": true
   },
   "outputs": [],
   "source": [
    "def startend(x):\n",
    "    # 출발한 도시 이름과 도착한 도시 이름을 찾는 함수\n",
    "    if pd.isnull(x) :\n",
    "        return pd.Series({\"Departure\": np.nan, \"Arrival\": np.nan}) # 없는 경우 nan 값을 줌\n",
    "    result = x.split('-')\n",
    "    if len(result) > 1 :\n",
    "        return pd.Series({\"Departure\": result[0].split(',')[0], \"Arrival\": result[-1].split(',')[0]})\n",
    "    else :\n",
    "        return pd.Series({\"Departure\": np.nan, \"Arrival\": np.nan})"
   ]
  },
  {
   "cell_type": "code",
   "execution_count": 434,
   "metadata": {
    "collapsed": false
   },
   "outputs": [],
   "source": [
    "df[[\"Arrival\",\"Departure\"]] = df[\"Route\"].apply(startend)\n",
    "# df[[\"Departure\",\"Arrival\"]] 하면 거꾸로 나옴. 왜 그런지는 모르겠다"
   ]
  },
  {
   "cell_type": "code",
   "execution_count": 435,
   "metadata": {
    "collapsed": false
   },
   "outputs": [
    {
     "data": {
      "text/plain": [
       "'New York City '"
      ]
     },
     "execution_count": 435,
     "metadata": {},
     "output_type": "execute_result"
    }
   ],
   "source": [
    "df[\"Departure\"].value_counts().index[0]"
   ]
  },
  {
   "cell_type": "code",
   "execution_count": 436,
   "metadata": {
    "collapsed": false
   },
   "outputs": [
    {
     "data": {
      "text/plain": [
       "' Paris'"
      ]
     },
     "execution_count": 436,
     "metadata": {},
     "output_type": "execute_result"
    }
   ],
   "source": [
    "df[\"Arrival\"].value_counts().index[0]"
   ]
  },
  {
   "cell_type": "markdown",
   "metadata": {},
   "source": [
    "### 7.추락 사고가 가장 많이 발생한 시간대 산출하기 (cf. 불량 데이터 전처리 이슈)"
   ]
  },
  {
   "cell_type": "markdown",
   "metadata": {},
   "source": [
    "#### 불량 데이터 색출"
   ]
  },
  {
   "cell_type": "code",
   "execution_count": 438,
   "metadata": {
    "collapsed": false
   },
   "outputs": [
    {
     "data": {
      "text/plain": [
       "['c: 1:00',\n",
       " 'c:17:00',\n",
       " 'c: 2:00',\n",
       " 'c:09:00',\n",
       " '1:30',\n",
       " 'c16:50',\n",
       " \"12'20\",\n",
       " '18.40',\n",
       " 'c:09:00',\n",
       " '114:20',\n",
       " 'c14:30',\n",
       " '0943',\n",
       " '1:00',\n",
       " '2:40',\n",
       " \"22'08\",\n",
       " 'c: 9:40',\n",
       " '2:00',\n",
       " '8:02',\n",
       " '9:30']"
      ]
     },
     "execution_count": 438,
     "metadata": {},
     "output_type": "execute_result"
    }
   ],
   "source": [
    "error_list = []\n",
    "df_pre = df.dropna(subset = [\"Time\"]) # time이라는 column 중 na 값 지우기\n",
    "for i in df_pre[\"Time\"] :\n",
    "    if not re.match(r\"\\d{2,2}:\\d{2,2}\",i) :\n",
    "        error_list.append(i)\n",
    "error_list"
   ]
  },
  {
   "cell_type": "code",
   "execution_count": 439,
   "metadata": {
    "collapsed": false
   },
   "outputs": [],
   "source": [
    "def replaceerror(x):\n",
    "    # 불량 데이터 전처리 함수\n",
    "    x = re.sub(r\"c:?\",\"\",x)\n",
    "    x = re.sub(\"[',.,\\,]\",\"\",x)\n",
    "    x = re.sub(\" \",\"\",x)\n",
    "    if re.match(r\"\\d{1,1}:\\d{2,2}\",x) :\n",
    "        x = '0'+x\n",
    "    if re.match(r'\\d{4,4}',x):\n",
    "        x = x[0:2] + ':'+x[2:4]\n",
    "    if re.match(r\"\\d{3,3}:\\d{2,2}\",x) :\n",
    "        x = x[1:]\n",
    "    return(x)"
   ]
  },
  {
   "cell_type": "code",
   "execution_count": 440,
   "metadata": {
    "collapsed": false
   },
   "outputs": [
    {
     "data": {
      "text/plain": [
       "15:00    32\n",
       "12:00    31\n",
       "11:00    29\n",
       "19:30    26\n",
       "16:00    26\n",
       "14:00    25\n",
       "19:00    24\n",
       "17:00    23\n",
       "09:30    23\n",
       "10:30    22\n",
       "14:30    20\n",
       "13:00    20\n",
       "09:00    19\n",
       "08:30    19\n",
       "17:30    19\n",
       "20:30    19\n",
       "08:00    18\n",
       "16:30    17\n",
       "20:00    17\n",
       "12:30    17\n",
       "10:15    17\n",
       "18:00    17\n",
       "01:00    16\n",
       "23:00    16\n",
       "07:00    15\n",
       "02:00    15\n",
       "15:30    15\n",
       "13:30    15\n",
       "11:30    15\n",
       "09:40    15\n",
       "         ..\n",
       "22:09     1\n",
       "13:04     1\n",
       "22:51     1\n",
       "07:58     1\n",
       "04:44     1\n",
       "09:51     1\n",
       "12:48     1\n",
       "17:51     1\n",
       "23:34     1\n",
       "17:08     1\n",
       "22:36     1\n",
       "14:12     1\n",
       "07:46     1\n",
       "20:28     1\n",
       "22:43     1\n",
       "11:04     1\n",
       "00:52     1\n",
       "14:21     1\n",
       "22:13     1\n",
       "14:24     1\n",
       "19:43     1\n",
       "16:52     1\n",
       "16:26     1\n",
       "22:54     1\n",
       "00:04     1\n",
       "15:18     1\n",
       "08:56     1\n",
       "01:25     1\n",
       "07:51     1\n",
       "10:02     1\n",
       "Name: Time, dtype: int64"
      ]
     },
     "execution_count": 440,
     "metadata": {},
     "output_type": "execute_result"
    }
   ],
   "source": [
    "df_pre[\"Time\"].map(replaceerror).value_counts()"
   ]
  },
  {
   "cell_type": "code",
   "execution_count": null,
   "metadata": {
    "collapsed": true
   },
   "outputs": [],
   "source": []
  },
  {
   "cell_type": "code",
   "execution_count": null,
   "metadata": {
    "collapsed": true
   },
   "outputs": [],
   "source": []
  },
  {
   "cell_type": "code",
   "execution_count": null,
   "metadata": {
    "collapsed": true
   },
   "outputs": [],
   "source": []
  },
  {
   "cell_type": "code",
   "execution_count": null,
   "metadata": {
    "collapsed": true
   },
   "outputs": [],
   "source": []
  },
  {
   "cell_type": "code",
   "execution_count": null,
   "metadata": {
    "collapsed": true
   },
   "outputs": [],
   "source": []
  },
  {
   "cell_type": "code",
   "execution_count": null,
   "metadata": {
    "collapsed": true
   },
   "outputs": [],
   "source": []
  },
  {
   "cell_type": "code",
   "execution_count": null,
   "metadata": {
    "collapsed": true
   },
   "outputs": [],
   "source": []
  },
  {
   "cell_type": "code",
   "execution_count": null,
   "metadata": {
    "collapsed": true
   },
   "outputs": [],
   "source": [
    "\n"
   ]
  },
  {
   "cell_type": "code",
   "execution_count": null,
   "metadata": {
    "collapsed": true
   },
   "outputs": [],
   "source": []
  },
  {
   "cell_type": "code",
   "execution_count": null,
   "metadata": {
    "collapsed": true
   },
   "outputs": [],
   "source": []
  },
  {
   "cell_type": "code",
   "execution_count": null,
   "metadata": {
    "collapsed": true
   },
   "outputs": [],
   "source": []
  },
  {
   "cell_type": "code",
   "execution_count": null,
   "metadata": {
    "collapsed": true
   },
   "outputs": [],
   "source": []
  },
  {
   "cell_type": "code",
   "execution_count": null,
   "metadata": {
    "collapsed": true
   },
   "outputs": [],
   "source": []
  },
  {
   "cell_type": "code",
   "execution_count": null,
   "metadata": {
    "collapsed": true
   },
   "outputs": [],
   "source": []
  }
 ],
 "metadata": {
  "kernelspec": {
   "display_name": "Python 3",
   "language": "python",
   "name": "python3"
  },
  "language_info": {
   "codemirror_mode": {
    "name": "ipython",
    "version": 3
   },
   "file_extension": ".py",
   "mimetype": "text/x-python",
   "name": "python",
   "nbconvert_exporter": "python",
   "pygments_lexer": "ipython3",
   "version": "3.6.0"
  }
 },
 "nbformat": 4,
 "nbformat_minor": 2
}
