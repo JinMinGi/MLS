{
 "cells": [
  {
   "cell_type": "code",
   "execution_count": 3,
   "metadata": {
    "collapsed": false,
    "deletable": true,
    "editable": true
   },
   "outputs": [],
   "source": [
    "## written by mingijin\n",
    "## Task for off-line study week 1\n",
    "import numpy as np\n",
    "import pandas as pd\n",
    "import re\n",
    "df = pd.read_csv(\"3-Airplane_Crashes_Since_1908.txt\")"
   ]
  },
  {
   "cell_type": "markdown",
   "metadata": {
    "collapsed": false,
    "deletable": true,
    "editable": true
   },
   "source": [
    "### 1 . Total accidents & Mean for survival rate"
   ]
  },
  {
   "cell_type": "code",
   "execution_count": 9,
   "metadata": {
    "collapsed": false,
    "deletable": true,
    "editable": true
   },
   "outputs": [
    {
     "data": {
      "text/plain": [
       "5268"
      ]
     },
     "execution_count": 9,
     "metadata": {},
     "output_type": "execute_result"
    }
   ],
   "source": [
    "# total number\n",
    "df.shape[0]"
   ]
  },
  {
   "cell_type": "code",
   "execution_count": 10,
   "metadata": {
    "collapsed": false
   },
   "outputs": [
    {
     "data": {
      "text/plain": [
       "0.83493159798252203"
      ]
     },
     "execution_count": 10,
     "metadata": {},
     "output_type": "execute_result"
    }
   ],
   "source": [
    "# new columns for rate and mean value\n",
    "df['rate'] = df['Fatalities']/df['Aboard']\n",
    "df['rate'].mean() "
   ]
  },
  {
   "cell_type": "markdown",
   "metadata": {
    "collapsed": false,
    "deletable": true,
    "editable": true
   },
   "source": [
    "### 2. Accidents & Aboard & Fatalities by years"
   ]
  },
  {
   "cell_type": "code",
   "execution_count": 13,
   "metadata": {
    "collapsed": false,
    "deletable": true,
    "editable": true
   },
   "outputs": [
    {
     "data": {
      "text/plain": [
       "0    09/17/1908\n",
       "1    07/12/1912\n",
       "2    08/06/1913\n",
       "3    09/09/1913\n",
       "4    10/17/1913\n",
       "Name: Date, dtype: object"
      ]
     },
     "execution_count": 13,
     "metadata": {},
     "output_type": "execute_result"
    }
   ],
   "source": [
    "df[\"Date\"].head()"
   ]
  },
  {
   "cell_type": "code",
   "execution_count": 14,
   "metadata": {
    "collapsed": false,
    "deletable": true,
    "editable": true
   },
   "outputs": [],
   "source": [
    "df[\"year\"] = df[\"Date\"].map(lambda x : x.split('/')[2])"
   ]
  },
  {
   "cell_type": "code",
   "execution_count": 15,
   "metadata": {
    "collapsed": false,
    "deletable": true,
    "editable": true
   },
   "outputs": [
    {
     "data": {
      "text/plain": [
       "0    1908\n",
       "1    1912\n",
       "2    1913\n",
       "3    1913\n",
       "4    1913\n",
       "Name: year, dtype: object"
      ]
     },
     "execution_count": 15,
     "metadata": {},
     "output_type": "execute_result"
    }
   ],
   "source": [
    "df[\"year\"].head()"
   ]
  },
  {
   "cell_type": "code",
   "execution_count": 44,
   "metadata": {
    "collapsed": false,
    "deletable": true,
    "editable": true
   },
   "outputs": [
    {
     "data": {
      "text/plain": [
       "1972    104\n",
       "1968     96\n",
       "1989     95\n",
       "1967     91\n",
       "1973     89\n",
       "Name: year, dtype: int64"
      ]
     },
     "execution_count": 44,
     "metadata": {},
     "output_type": "execute_result"
    }
   ],
   "source": [
    "# accidents by years\n",
    "df[\"year\"].value_counts().head()"
   ]
  },
  {
   "cell_type": "code",
   "execution_count": 47,
   "metadata": {
    "collapsed": false,
    "deletable": true,
    "editable": true
   },
   "outputs": [
    {
     "data": {
      "text/plain": [
       "array(['1908', '1912', '1913', '1915', '1916', '1917', '1918', '1919',\n",
       "       '1920', '1921', '1922', '1923', '1924', '1925', '1926', '1927',\n",
       "       '1928', '1929', '1930', '1931', '1932', '1933', '1934', '1935',\n",
       "       '1936', '1937', '1938', '1939', '1940', '1941', '1942', '1943',\n",
       "       '1944', '1945', '1946', '1947', '1948', '1949', '1950', '1951',\n",
       "       '1952', '1953', '1954', '1955', '1956', '1957', '1958', '1959',\n",
       "       '1960', '1961', '1962', '1963', '1964', '1965', '1966', '1967',\n",
       "       '1968', '1969', '1970', '1971', '1972', '1973', '1974', '1975',\n",
       "       '1976', '1977', '1978', '1979', '1980', '1981', '1982', '1983',\n",
       "       '1984', '1985', '1986', '1987', '1988', '1989', '1990', '1991',\n",
       "       '1992', '1993', '1994', '1995', '1996', '1997', '1998', '1999',\n",
       "       '2000', '2001', '2002', '2003', '2004', '2005', '2006', '2007',\n",
       "       '2008', '2009'], dtype=object)"
      ]
     },
     "execution_count": 47,
     "metadata": {},
     "output_type": "execute_result"
    }
   ],
   "source": [
    "df['year'].unique()"
   ]
  },
  {
   "cell_type": "code",
   "execution_count": 73,
   "metadata": {
    "collapsed": false,
    "deletable": true,
    "editable": true
   },
   "outputs": [
    {
     "name": "stdout",
     "output_type": "stream",
     "text": [
      "1 loop, best of 3: 202 ms per loop\n"
     ]
    }
   ],
   "source": [
    "# aboard & fatalities by year (ver. mingi)\n",
    "%%timeit\n",
    "data = {'year':[],'aboard':[],'fatalities':[]}\n",
    "for year in df['year'].unique():\n",
    "    ab_sum = df.loc[df['year']== year,'Aboard'].sum()\n",
    "    fa_sum = df.loc[df['year']== year, 'Fatalities'].sum()\n",
    "    data['year'].append(year)\n",
    "    data['aboard'].append(ab_sum)\n",
    "    data['fatalities'].append(fa_sum)\n",
    "dataFrame = pd.DataFrame(data)\n",
    "dataFrame.head()"
   ]
  },
  {
   "cell_type": "code",
   "execution_count": 75,
   "metadata": {
    "collapsed": false,
    "deletable": true,
    "editable": true,
    "scrolled": true
   },
   "outputs": [
    {
     "name": "stdout",
     "output_type": "stream",
     "text": [
      "1 loop, best of 3: 218 ms per loop\n"
     ]
    }
   ],
   "source": [
    "# # aboard & fatalities by year (ver. SJ)\n",
    "%%timeit\n",
    "year_list = df[\"year\"].unique()\n",
    "result_year = pd.DataFrame(index = year_list,\n",
    "                           columns = [\"Aboard\",\"Fataltities\"])\n",
    "for year in year_list :\n",
    "    temp = df[df[\"year\"]==year]\n",
    "    result_year.ix[year][\"Aboard\"] = temp[\"Aboard\"].sum()\n",
    "    result_year.ix[year][\"Fatalities\"] = temp[\"Fatalities\"].sum()\n",
    "    "
   ]
  },
  {
   "cell_type": "markdown",
   "metadata": {},
   "source": [
    "### 3. Accidents by top 15 Operator, Type, Location"
   ]
  },
  {
   "cell_type": "code",
   "execution_count": 16,
   "metadata": {
    "collapsed": false,
    "deletable": true,
    "editable": true
   },
   "outputs": [
    {
     "name": "stdout",
     "output_type": "stream",
     "text": [
      "100 loops, best of 3: 4.42 ms per loop\n"
     ]
    }
   ],
   "source": [
    "%%timeit\n",
    "df[\"Operator\"].value_counts()[:15]\n",
    "df[\"Type\"].value_counts()[:15]\n",
    "df[\"Location\"].value_counts()[:15]"
   ]
  },
  {
   "cell_type": "markdown",
   "metadata": {},
   "source": [
    "### 4. Accident with top3 Operator by years"
   ]
  },
  {
   "cell_type": "code",
   "execution_count": 17,
   "metadata": {
    "collapsed": false,
    "deletable": true,
    "editable": true
   },
   "outputs": [],
   "source": [
    "operators = df[\"Operator\"].value_counts()[:3].index"
   ]
  },
  {
   "cell_type": "code",
   "execution_count": 19,
   "metadata": {
    "collapsed": false,
    "deletable": true,
    "editable": true,
    "scrolled": false
   },
   "outputs": [
    {
     "name": "stdout",
     "output_type": "stream",
     "text": [
      "Aeroflot 1973    15\n",
      "Name: year, dtype: int64\n",
      "Military - U.S. Air Force 1952    11\n",
      "Name: year, dtype: int64\n",
      "Air France 1934    6\n",
      "Name: year, dtype: int64\n"
     ]
    }
   ],
   "source": [
    "for operator in operators:\n",
    "    max1 = df.loc[df['Operator']== operator, 'year'].value_counts()[:1]\n",
    "    print (operator, max1)"
   ]
  },
  {
   "cell_type": "markdown",
   "metadata": {},
   "source": [
    "### 5. Maximun rate for survive by flight type"
   ]
  },
  {
   "cell_type": "code",
   "execution_count": 23,
   "metadata": {
    "collapsed": false,
    "deletable": true,
    "editable": true
   },
   "outputs": [],
   "source": [
    "# calculate survival rates\n",
    "df['rate'] = df['Fatalities']/df['Aboard']"
   ]
  },
  {
   "cell_type": "code",
   "execution_count": 24,
   "metadata": {
    "collapsed": false,
    "deletable": true,
    "editable": true
   },
   "outputs": [
    {
     "data": {
      "text/plain": [
       "array(['Wright Flyer III', 'Dirigible', 'Curtiss seaplane', ...,\n",
       "       'Pilatus PC-6', 'Mi-35', 'Airbus A330-203'], dtype=object)"
      ]
     },
     "execution_count": 24,
     "metadata": {},
     "output_type": "execute_result"
    }
   ],
   "source": [
    "flight_type = df['Type'].unique()\n",
    "flight_type"
   ]
  },
  {
   "cell_type": "code",
   "execution_count": 26,
   "metadata": {
    "collapsed": false,
    "deletable": true,
    "editable": true
   },
   "outputs": [
    {
     "data": {
      "text/plain": [
       "2447"
      ]
     },
     "execution_count": 26,
     "metadata": {},
     "output_type": "execute_result"
    }
   ],
   "source": [
    "# numbers of filght type\n",
    "flight_type.shape[0]"
   ]
  },
  {
   "cell_type": "code",
   "execution_count": 196,
   "metadata": {
    "collapsed": false,
    "deletable": true,
    "editable": true
   },
   "outputs": [],
   "source": [
    "# Means survival rate by flight type and find to 100 max valu\n",
    "result_mean = pd.DataFrame(index = flight_type, \n",
    "                               columns = [\"mean\"])\n",
    "for flight in flight_type:\n",
    "    result_mean.ix[flight] = df.loc[df['Type']==flight, 'rate'].mean()"
   ]
  },
  {
   "cell_type": "code",
   "execution_count": 203,
   "metadata": {
    "collapsed": false,
    "deletable": true,
    "editable": true
   },
   "outputs": [
    {
     "data": {
      "text/html": [
       "<div>\n",
       "<table border=\"1\" class=\"dataframe\">\n",
       "  <thead>\n",
       "    <tr style=\"text-align: right;\">\n",
       "      <th></th>\n",
       "      <th>mean</th>\n",
       "    </tr>\n",
       "  </thead>\n",
       "  <tbody>\n",
       "    <tr>\n",
       "      <th>Bell UH-1B Huey Helicopter</th>\n",
       "      <td>0</td>\n",
       "    </tr>\n",
       "    <tr>\n",
       "      <th>North American F-100D-25NA</th>\n",
       "      <td>0</td>\n",
       "    </tr>\n",
       "    <tr>\n",
       "      <th>Tupelov Tu-124</th>\n",
       "      <td>0</td>\n",
       "    </tr>\n",
       "    <tr>\n",
       "      <th>Sukhoi Su-27</th>\n",
       "      <td>0</td>\n",
       "    </tr>\n",
       "    <tr>\n",
       "      <th>Chance Vought F-8E</th>\n",
       "      <td>0</td>\n",
       "    </tr>\n",
       "    <tr>\n",
       "      <th>Airbus A-330-243</th>\n",
       "      <td>0</td>\n",
       "    </tr>\n",
       "    <tr>\n",
       "      <th>Cessna 172</th>\n",
       "      <td>0</td>\n",
       "    </tr>\n",
       "    <tr>\n",
       "      <th>Boeing B-737-3T5</th>\n",
       "      <td>0</td>\n",
       "    </tr>\n",
       "    <tr>\n",
       "      <th>LTVF-8J</th>\n",
       "      <td>0</td>\n",
       "    </tr>\n",
       "    <tr>\n",
       "      <th>Grummand EA-6B</th>\n",
       "      <td>0</td>\n",
       "    </tr>\n",
       "    <tr>\n",
       "      <th>F-86 Sabrejet</th>\n",
       "      <td>0</td>\n",
       "    </tr>\n",
       "    <tr>\n",
       "      <th>GD F-16D / Lockheed C-130E</th>\n",
       "      <td>0</td>\n",
       "    </tr>\n",
       "    <tr>\n",
       "      <th>Boeing B-747-466</th>\n",
       "      <td>0</td>\n",
       "    </tr>\n",
       "    <tr>\n",
       "      <th>MDonnell Douglas MD-81</th>\n",
       "      <td>0</td>\n",
       "    </tr>\n",
       "    <tr>\n",
       "      <th>BAC One-Eleven 528FL</th>\n",
       "      <td>0</td>\n",
       "    </tr>\n",
       "    <tr>\n",
       "      <th>Ford 5-AT-D Tri-Motor</th>\n",
       "      <td>0</td>\n",
       "    </tr>\n",
       "    <tr>\n",
       "      <th>MiG-23</th>\n",
       "      <td>0</td>\n",
       "    </tr>\n",
       "    <tr>\n",
       "      <th>Lockheed L-1011</th>\n",
       "      <td>0</td>\n",
       "    </tr>\n",
       "    <tr>\n",
       "      <th>Boeing B-767-233ER</th>\n",
       "      <td>0</td>\n",
       "    </tr>\n",
       "    <tr>\n",
       "      <th>Boeing B-747-SP-09</th>\n",
       "      <td>0</td>\n",
       "    </tr>\n",
       "    <tr>\n",
       "      <th>Boeing B-727-227</th>\n",
       "      <td>0</td>\n",
       "    </tr>\n",
       "    <tr>\n",
       "      <th>Boeing B-737-3T0</th>\n",
       "      <td>0</td>\n",
       "    </tr>\n",
       "    <tr>\n",
       "      <th>Airbus A-340</th>\n",
       "      <td>0</td>\n",
       "    </tr>\n",
       "    <tr>\n",
       "      <th>Boeing B-737-7H4</th>\n",
       "      <td>0</td>\n",
       "    </tr>\n",
       "    <tr>\n",
       "      <th>Airbus A.320-214</th>\n",
       "      <td>0</td>\n",
       "    </tr>\n",
       "    <tr>\n",
       "      <th>Boeing 777-236ER</th>\n",
       "      <td>0</td>\n",
       "    </tr>\n",
       "    <tr>\n",
       "      <th>McDonnell Douglas DC-9-51</th>\n",
       "      <td>0</td>\n",
       "    </tr>\n",
       "    <tr>\n",
       "      <th>Boeing B-747-209BSF</th>\n",
       "      <td>0</td>\n",
       "    </tr>\n",
       "    <tr>\n",
       "      <th>Boeing  377 Stratocruiser</th>\n",
       "      <td>0</td>\n",
       "    </tr>\n",
       "    <tr>\n",
       "      <th>Douglas DC-3 / Cessna 170B</th>\n",
       "      <td>0</td>\n",
       "    </tr>\n",
       "    <tr>\n",
       "      <th>...</th>\n",
       "      <td>...</td>\n",
       "    </tr>\n",
       "    <tr>\n",
       "      <th>Boeing B-727-2A7</th>\n",
       "      <td>0.0363636</td>\n",
       "    </tr>\n",
       "    <tr>\n",
       "      <th>Boeing 377 Stratocruiser</th>\n",
       "      <td>0.037037</td>\n",
       "    </tr>\n",
       "    <tr>\n",
       "      <th>Boeing B-737-2A1</th>\n",
       "      <td>0.0372475</td>\n",
       "    </tr>\n",
       "    <tr>\n",
       "      <th>Boeing 737-286</th>\n",
       "      <td>0.0375</td>\n",
       "    </tr>\n",
       "    <tr>\n",
       "      <th>Tupolev TU-154B-1</th>\n",
       "      <td>0.0388878</td>\n",
       "    </tr>\n",
       "    <tr>\n",
       "      <th>McDonnell Douglas DC-9 and Cessna 150F</th>\n",
       "      <td>0.0392157</td>\n",
       "    </tr>\n",
       "    <tr>\n",
       "      <th>Boeing B-707-465</th>\n",
       "      <td>0.0393701</td>\n",
       "    </tr>\n",
       "    <tr>\n",
       "      <th>de Havilland DH-106 Comet 4</th>\n",
       "      <td>0.04</td>\n",
       "    </tr>\n",
       "    <tr>\n",
       "      <th>Boeing B-727-251 / MD Douglas DC-9-14</th>\n",
       "      <td>0.040404</td>\n",
       "    </tr>\n",
       "    <tr>\n",
       "      <th>Canadair CRJ-100ER</th>\n",
       "      <td>0.0416667</td>\n",
       "    </tr>\n",
       "    <tr>\n",
       "      <th>Fokker F-28 Fellowship 3000RC</th>\n",
       "      <td>0.0491803</td>\n",
       "    </tr>\n",
       "    <tr>\n",
       "      <th>Sud Aviation SE 210 Caravelle III</th>\n",
       "      <td>0.05</td>\n",
       "    </tr>\n",
       "    <tr>\n",
       "      <th>Let 410UVP-E20</th>\n",
       "      <td>0.05</td>\n",
       "    </tr>\n",
       "    <tr>\n",
       "      <th>Fokker 27 Friendship 200</th>\n",
       "      <td>0.05</td>\n",
       "    </tr>\n",
       "    <tr>\n",
       "      <th>Transall C-160NG</th>\n",
       "      <td>0.0526316</td>\n",
       "    </tr>\n",
       "    <tr>\n",
       "      <th>Handley Page HP-81 Hermes IV</th>\n",
       "      <td>0.0555556</td>\n",
       "    </tr>\n",
       "    <tr>\n",
       "      <th>Channel Air Bridge</th>\n",
       "      <td>0.0555556</td>\n",
       "    </tr>\n",
       "    <tr>\n",
       "      <th>Vickers 610 Viking 1B</th>\n",
       "      <td>0.0555556</td>\n",
       "    </tr>\n",
       "    <tr>\n",
       "      <th>Lockheed L-749 / Cessna 140</th>\n",
       "      <td>0.0571429</td>\n",
       "    </tr>\n",
       "    <tr>\n",
       "      <th>Aerospatiale ATR-42-512</th>\n",
       "      <td>0.0588235</td>\n",
       "    </tr>\n",
       "    <tr>\n",
       "      <th>Handley Page HP-1 Hermes</th>\n",
       "      <td>0.0625</td>\n",
       "    </tr>\n",
       "    <tr>\n",
       "      <th>Vickers 639 Viking 1</th>\n",
       "      <td>0.0625</td>\n",
       "    </tr>\n",
       "    <tr>\n",
       "      <th>McDonnell Douglas DC-8-61</th>\n",
       "      <td>0.0636137</td>\n",
       "    </tr>\n",
       "    <tr>\n",
       "      <th>Hawker Siddeley HS-748-435 Srs. 2</th>\n",
       "      <td>0.0638298</td>\n",
       "    </tr>\n",
       "    <tr>\n",
       "      <th>Boeing 737-2M2</th>\n",
       "      <td>0.0641026</td>\n",
       "    </tr>\n",
       "    <tr>\n",
       "      <th>Boeing B-737-2F9</th>\n",
       "      <td>0.0656934</td>\n",
       "    </tr>\n",
       "    <tr>\n",
       "      <th>Boeing B-747-2B5B</th>\n",
       "      <td>0.0663717</td>\n",
       "    </tr>\n",
       "    <tr>\n",
       "      <th>MDonnell Dougals DC-9</th>\n",
       "      <td>0.0666667</td>\n",
       "    </tr>\n",
       "    <tr>\n",
       "      <th>Hawker Siddeley HS-748-235 Srs. 2A</th>\n",
       "      <td>0.0666667</td>\n",
       "    </tr>\n",
       "    <tr>\n",
       "      <th>Ford Tri-Motor 5</th>\n",
       "      <td>0.0666667</td>\n",
       "    </tr>\n",
       "  </tbody>\n",
       "</table>\n",
       "<p>100 rows × 1 columns</p>\n",
       "</div>"
      ],
      "text/plain": [
       "                                             mean\n",
       "Bell UH-1B Huey Helicopter                      0\n",
       "North American F-100D-25NA                      0\n",
       "Tupelov Tu-124                                  0\n",
       "Sukhoi Su-27                                    0\n",
       "Chance Vought F-8E                              0\n",
       "Airbus A-330-243                                0\n",
       "Cessna 172                                      0\n",
       "Boeing B-737-3T5                                0\n",
       "LTVF-8J                                         0\n",
       "Grummand EA-6B                                  0\n",
       "F-86 Sabrejet                                   0\n",
       "GD F-16D / Lockheed C-130E                      0\n",
       "Boeing B-747-466                                0\n",
       "MDonnell Douglas MD-81                          0\n",
       "BAC One-Eleven 528FL                            0\n",
       "Ford 5-AT-D Tri-Motor                           0\n",
       "MiG-23                                          0\n",
       "Lockheed L-1011                                 0\n",
       "Boeing B-767-233ER                              0\n",
       "Boeing B-747-SP-09                              0\n",
       "Boeing B-727-227                                0\n",
       "Boeing B-737-3T0                                0\n",
       "Airbus A-340                                    0\n",
       "Boeing B-737-7H4                                0\n",
       "Airbus A.320-214                                0\n",
       "Boeing 777-236ER                                0\n",
       "McDonnell Douglas DC-9-51                       0\n",
       "Boeing B-747-209BSF                             0\n",
       "Boeing  377 Stratocruiser                       0\n",
       "Douglas DC-3 / Cessna 170B                      0\n",
       "...                                           ...\n",
       "Boeing B-727-2A7                        0.0363636\n",
       "Boeing 377 Stratocruiser                 0.037037\n",
       "Boeing B-737-2A1                        0.0372475\n",
       "Boeing 737-286                             0.0375\n",
       "Tupolev TU-154B-1                       0.0388878\n",
       "McDonnell Douglas DC-9 and Cessna 150F  0.0392157\n",
       "Boeing B-707-465                        0.0393701\n",
       "de Havilland DH-106 Comet 4                  0.04\n",
       "Boeing B-727-251 / MD Douglas DC-9-14    0.040404\n",
       "Canadair CRJ-100ER                      0.0416667\n",
       "Fokker F-28 Fellowship 3000RC           0.0491803\n",
       "Sud Aviation SE 210 Caravelle III            0.05\n",
       "Let 410UVP-E20                               0.05\n",
       "Fokker 27 Friendship 200                     0.05\n",
       "Transall C-160NG                        0.0526316\n",
       "Handley Page HP-81 Hermes IV            0.0555556\n",
       "Channel Air Bridge                      0.0555556\n",
       "Vickers 610 Viking 1B                   0.0555556\n",
       "Lockheed L-749 / Cessna 140             0.0571429\n",
       "Aerospatiale ATR-42-512                 0.0588235\n",
       "Handley Page HP-1 Hermes                   0.0625\n",
       "Vickers 639 Viking 1                       0.0625\n",
       "McDonnell Douglas DC-8-61               0.0636137\n",
       "Hawker Siddeley HS-748-435 Srs. 2       0.0638298\n",
       "Boeing 737-2M2                          0.0641026\n",
       "Boeing B-737-2F9                        0.0656934\n",
       "Boeing B-747-2B5B                       0.0663717\n",
       "MDonnell Dougals DC-9                   0.0666667\n",
       "Hawker Siddeley HS-748-235 Srs. 2A      0.0666667\n",
       "Ford Tri-Motor 5                        0.0666667\n",
       "\n",
       "[100 rows x 1 columns]"
      ]
     },
     "execution_count": 203,
     "metadata": {},
     "output_type": "execute_result"
    }
   ],
   "source": [
    "result_mean.sort_values(by ='mean')[:100]"
   ]
  },
  {
   "cell_type": "markdown",
   "metadata": {},
   "source": [
    "### 6. Accidents by departure & arrival locations"
   ]
  },
  {
   "cell_type": "code",
   "execution_count": 212,
   "metadata": {
    "collapsed": false,
    "deletable": true,
    "editable": true,
    "scrolled": true
   },
   "outputs": [
    {
     "data": {
      "text/plain": [
       "array(['Demonstration', 'Test flight', nan, ..., 'Rio de Janeiro - Paris',\n",
       "       'Lourdes de BlanSablon - Port Hope Simpson', 'Mechuka for Jorhat'], dtype=object)"
      ]
     },
     "execution_count": 212,
     "metadata": {},
     "output_type": "execute_result"
    }
   ],
   "source": [
    "df['Route'].unique()"
   ]
  },
  {
   "cell_type": "code",
   "execution_count": 220,
   "metadata": {
    "collapsed": false,
    "deletable": true,
    "editable": true
   },
   "outputs": [
    {
     "data": {
      "text/plain": [
       "0                                           Demonstration\n",
       "1                                             Test flight\n",
       "2                                                     NaN\n",
       "3                                                     NaN\n",
       "4                                                     NaN\n",
       "5                                                     NaN\n",
       "6                                                     NaN\n",
       "7                                                     NaN\n",
       "8                                                     NaN\n",
       "9                                                     NaN\n",
       "10                                                    NaN\n",
       "11                                                    NaN\n",
       "12                                                    NaN\n",
       "13                                                    NaN\n",
       "14                                                    NaN\n",
       "15                                                    NaN\n",
       "16                                                    NaN\n",
       "17                                                    NaN\n",
       "18                                                    NaN\n",
       "19                                                    NaN\n",
       "20                                                    NaN\n",
       "21                                                    NaN\n",
       "22                                                    NaN\n",
       "23                                                    NaN\n",
       "24                                                    NaN\n",
       "25                                                    NaN\n",
       "26                                                    NaN\n",
       "27                                                    NaN\n",
       "28                                                    NaN\n",
       "29                                                    NaN\n",
       "                              ...                        \n",
       "5237                 Kampi ya Kanzi Airstrip - Loitokitok\n",
       "5238                           al-Asad air base - Baghdad\n",
       "5239                Vancouver - Powell River - Toba Inlet\n",
       "5240                                             Training\n",
       "5241                Tortola Virgin Islands - San Juan, PR\n",
       "5242                           Sabine Pass - Oil Platform\n",
       "5243          Santiago, Dominican Republi- Providenciales\n",
       "5244                Bayou Penchant - Off shore oil fields\n",
       "5245                          New York, NY- Charlotte, NC\n",
       "5246                                        Coari - Manus\n",
       "5247                                       Rome - Bologna\n",
       "5248                           Newark, N.J. - Buffalo, NY\n",
       "5249                                                  NaN\n",
       "5250    Entebbe, Uganda - Luxor, Egypt - Niklaev, Ukraine\n",
       "5251            Istanbul, Turkey - Amsterdam, Netherlands\n",
       "5252                 Entebbe, Uganda - Mogadishu, Somalia\n",
       "5253                        St. Johns - Hibernia platform\n",
       "5254                             Oroville, CA - Butte, MT\n",
       "5255                      Guangzhou, China - Tokyo, Japan\n",
       "5256                              Miller field - Aberdeen\n",
       "5257                                   Militiary training\n",
       "5258                                    Jayapura - Wamena\n",
       "5259                                        Ilaga - Mulia\n",
       "5260                                   Canaima - Porlamar\n",
       "5261    Bangui, CAR- Brazzaville, Congo - Harare, Zimb...\n",
       "5262                                               Patrol\n",
       "5263                                     Jakarta - Maduin\n",
       "5264                                         Goma - Isiro\n",
       "5265                               Rio de Janeiro - Paris\n",
       "5266            Lourdes de BlanSablon - Port Hope Simpson\n",
       "Name: Route, dtype: object"
      ]
     },
     "execution_count": 220,
     "metadata": {},
     "output_type": "execute_result"
    }
   ],
   "source": [
    "df['Route'][:-1]"
   ]
  },
  {
   "cell_type": "code",
   "execution_count": 260,
   "metadata": {
    "collapsed": false,
    "deletable": true,
    "editable": true,
    "scrolled": true
   },
   "outputs": [],
   "source": [
    "# find departure and arrival location with 'Route'\n",
    "df['departure'] = df['Route'].map(lambda x : x.split('-')[0].split(',')[0] if (pd.notnull(x)) and x !='training' else np.nan)\n",
    "df['arrival'] = df['Route'].map(lambda x : x.split('-')[-1].split(',')[0] if (pd.notnull(x)) and x !='training'else np.nan)"
   ]
  },
  {
   "cell_type": "code",
   "execution_count": 261,
   "metadata": {
    "collapsed": false,
    "deletable": true,
    "editable": true
   },
   "outputs": [
    {
     "data": {
      "text/html": [
       "<div>\n",
       "<table border=\"1\" class=\"dataframe\">\n",
       "  <thead>\n",
       "    <tr style=\"text-align: right;\">\n",
       "      <th></th>\n",
       "      <th>Date</th>\n",
       "      <th>Time</th>\n",
       "      <th>Location</th>\n",
       "      <th>Operator</th>\n",
       "      <th>Flight #</th>\n",
       "      <th>Route</th>\n",
       "      <th>Type</th>\n",
       "      <th>Registration</th>\n",
       "      <th>cn/In</th>\n",
       "      <th>Aboard</th>\n",
       "      <th>Fatalities</th>\n",
       "      <th>Ground</th>\n",
       "      <th>Summary</th>\n",
       "      <th>year</th>\n",
       "      <th>departure</th>\n",
       "      <th>arrival</th>\n",
       "    </tr>\n",
       "  </thead>\n",
       "  <tbody>\n",
       "    <tr>\n",
       "      <th>5263</th>\n",
       "      <td>05/20/2009</td>\n",
       "      <td>06:30</td>\n",
       "      <td>Near Madiun, Indonesia</td>\n",
       "      <td>Military - Indonesian Air Force</td>\n",
       "      <td>NaN</td>\n",
       "      <td>Jakarta - Maduin</td>\n",
       "      <td>Lockheed C-130 Hercules</td>\n",
       "      <td>A-1325</td>\n",
       "      <td>1982</td>\n",
       "      <td>112.0</td>\n",
       "      <td>98.0</td>\n",
       "      <td>2.0</td>\n",
       "      <td>While on approach, the military transport cras...</td>\n",
       "      <td>2009</td>\n",
       "      <td>Jakarta</td>\n",
       "      <td>Maduin</td>\n",
       "    </tr>\n",
       "    <tr>\n",
       "      <th>5264</th>\n",
       "      <td>05/26/2009</td>\n",
       "      <td>NaN</td>\n",
       "      <td>Near Isiro, DemocratiRepubliCongo</td>\n",
       "      <td>Service Air</td>\n",
       "      <td>NaN</td>\n",
       "      <td>Goma - Isiro</td>\n",
       "      <td>Antonov An-26</td>\n",
       "      <td>9Q-CSA</td>\n",
       "      <td>5005</td>\n",
       "      <td>4.0</td>\n",
       "      <td>4.0</td>\n",
       "      <td>NaN</td>\n",
       "      <td>The cargo plane crashed while on approach to I...</td>\n",
       "      <td>2009</td>\n",
       "      <td>Goma</td>\n",
       "      <td>Isiro</td>\n",
       "    </tr>\n",
       "    <tr>\n",
       "      <th>5265</th>\n",
       "      <td>06/01/2009</td>\n",
       "      <td>00:15</td>\n",
       "      <td>AtlantiOcean, 570 miles northeast of Natal, Br...</td>\n",
       "      <td>Air France</td>\n",
       "      <td>447</td>\n",
       "      <td>Rio de Janeiro - Paris</td>\n",
       "      <td>Airbus A330-203</td>\n",
       "      <td>F-GZCP</td>\n",
       "      <td>660</td>\n",
       "      <td>228.0</td>\n",
       "      <td>228.0</td>\n",
       "      <td>0.0</td>\n",
       "      <td>The Airbus went missing over the AtlantiOcean ...</td>\n",
       "      <td>2009</td>\n",
       "      <td>Rio de Janeiro</td>\n",
       "      <td>Paris</td>\n",
       "    </tr>\n",
       "    <tr>\n",
       "      <th>5266</th>\n",
       "      <td>06/07/2009</td>\n",
       "      <td>08:30</td>\n",
       "      <td>Near Port Hope Simpson, Newfoundland, Canada</td>\n",
       "      <td>Strait Air</td>\n",
       "      <td>NaN</td>\n",
       "      <td>Lourdes de BlanSablon - Port Hope Simpson</td>\n",
       "      <td>Britten-Norman BN-2A-27 Islander</td>\n",
       "      <td>C-FJJR</td>\n",
       "      <td>424</td>\n",
       "      <td>1.0</td>\n",
       "      <td>1.0</td>\n",
       "      <td>0.0</td>\n",
       "      <td>The air ambulance crashed into hills while att...</td>\n",
       "      <td>2009</td>\n",
       "      <td>Lourdes de BlanSablon</td>\n",
       "      <td>Port Hope Simpson</td>\n",
       "    </tr>\n",
       "    <tr>\n",
       "      <th>5267</th>\n",
       "      <td>06/08/2009</td>\n",
       "      <td>NaN</td>\n",
       "      <td>State of Arunachal Pradesh, India</td>\n",
       "      <td>Military - Indian Air Force</td>\n",
       "      <td>NaN</td>\n",
       "      <td>Mechuka for Jorhat</td>\n",
       "      <td>Antonov An-32</td>\n",
       "      <td>NaN</td>\n",
       "      <td>NaN</td>\n",
       "      <td>13.0</td>\n",
       "      <td>13.0</td>\n",
       "      <td>0.0</td>\n",
       "      <td>The military transport went missing while en r...</td>\n",
       "      <td>2009</td>\n",
       "      <td>Mechuka for Jorhat</td>\n",
       "      <td>Mechuka for Jorhat</td>\n",
       "    </tr>\n",
       "  </tbody>\n",
       "</table>\n",
       "</div>"
      ],
      "text/plain": [
       "            Date   Time                                           Location  \\\n",
       "5263  05/20/2009  06:30                             Near Madiun, Indonesia   \n",
       "5264  05/26/2009    NaN                  Near Isiro, DemocratiRepubliCongo   \n",
       "5265  06/01/2009  00:15  AtlantiOcean, 570 miles northeast of Natal, Br...   \n",
       "5266  06/07/2009  08:30       Near Port Hope Simpson, Newfoundland, Canada   \n",
       "5267  06/08/2009    NaN                  State of Arunachal Pradesh, India   \n",
       "\n",
       "                             Operator Flight #  \\\n",
       "5263  Military - Indonesian Air Force      NaN   \n",
       "5264                      Service Air      NaN   \n",
       "5265                       Air France      447   \n",
       "5266                       Strait Air      NaN   \n",
       "5267      Military - Indian Air Force      NaN   \n",
       "\n",
       "                                          Route  \\\n",
       "5263                           Jakarta - Maduin   \n",
       "5264                               Goma - Isiro   \n",
       "5265                     Rio de Janeiro - Paris   \n",
       "5266  Lourdes de BlanSablon - Port Hope Simpson   \n",
       "5267                         Mechuka for Jorhat   \n",
       "\n",
       "                                  Type Registration cn/In  Aboard  Fatalities  \\\n",
       "5263           Lockheed C-130 Hercules       A-1325  1982   112.0        98.0   \n",
       "5264                     Antonov An-26       9Q-CSA  5005     4.0         4.0   \n",
       "5265                   Airbus A330-203       F-GZCP   660   228.0       228.0   \n",
       "5266  Britten-Norman BN-2A-27 Islander      C-FJJR    424     1.0         1.0   \n",
       "5267                     Antonov An-32          NaN   NaN    13.0        13.0   \n",
       "\n",
       "      Ground                                            Summary  year  \\\n",
       "5263     2.0  While on approach, the military transport cras...  2009   \n",
       "5264     NaN  The cargo plane crashed while on approach to I...  2009   \n",
       "5265     0.0  The Airbus went missing over the AtlantiOcean ...  2009   \n",
       "5266     0.0  The air ambulance crashed into hills while att...  2009   \n",
       "5267     0.0  The military transport went missing while en r...  2009   \n",
       "\n",
       "                   departure             arrival  \n",
       "5263                Jakarta               Maduin  \n",
       "5264                   Goma                Isiro  \n",
       "5265         Rio de Janeiro                Paris  \n",
       "5266  Lourdes de BlanSablon    Port Hope Simpson  \n",
       "5267      Mechuka for Jorhat  Mechuka for Jorhat  "
      ]
     },
     "execution_count": 261,
     "metadata": {},
     "output_type": "execute_result"
    }
   ],
   "source": [
    "df.tail()"
   ]
  },
  {
   "cell_type": "code",
   "execution_count": 262,
   "metadata": {
    "collapsed": false,
    "deletable": true,
    "editable": true
   },
   "outputs": [
    {
     "data": {
      "text/plain": [
       "Training          81\n",
       "New York City     41\n",
       "Paris             34\n",
       "Sightseeing       29\n",
       "Rome              29\n",
       "Bogota            28\n",
       "Chicago           27\n",
       "London            27\n",
       "Moscow            25\n",
       "Sao Paulo         21\n",
       "Manila            19\n",
       "Los Angeles       19\n",
       "Miami             19\n",
       "Cairo             18\n",
       "Test flight       17\n",
       "Name: departure, dtype: int64"
      ]
     },
     "execution_count": 262,
     "metadata": {},
     "output_type": "execute_result"
    }
   ],
   "source": [
    "df['departure'].value_counts()[:15]"
   ]
  },
  {
   "cell_type": "code",
   "execution_count": 263,
   "metadata": {
    "collapsed": false,
    "deletable": true,
    "editable": true
   },
   "outputs": [
    {
     "data": {
      "text/plain": [
       "Training          81\n",
       " Paris            37\n",
       " Chicago          33\n",
       " Los Angeles      30\n",
       " New York City    30\n",
       " London           30\n",
       "Sightseeing       29\n",
       " Miami            23\n",
       " Cairo            18\n",
       " Rome             18\n",
       " Bogota           18\n",
       " Manila           17\n",
       "Test flight       17\n",
       " Moscow           16\n",
       " La Paz           16\n",
       "Name: arrival, dtype: int64"
      ]
     },
     "execution_count": 263,
     "metadata": {},
     "output_type": "execute_result"
    }
   ],
   "source": [
    "df['arrival'].value_counts()[:15]"
   ]
  },
  {
   "cell_type": "markdown",
   "metadata": {},
   "source": [
    "### 7. Accidents by times"
   ]
  },
  {
   "cell_type": "code",
   "execution_count": 27,
   "metadata": {
    "collapsed": false,
    "deletable": true,
    "editable": true
   },
   "outputs": [
    {
     "data": {
      "text/plain": [
       "9.0     187\n",
       "19.0    181\n",
       "11.0    172\n",
       "15.0    171\n",
       "10.0    167\n",
       "14.0    167\n",
       "12.0    166\n",
       "13.0    157\n",
       "16.0    157\n",
       "17.0    156\n",
       "20.0    154\n",
       "18.0    147\n",
       "8.0     141\n",
       "7.0     132\n",
       "23.0    111\n",
       "21.0    108\n",
       "22.0    106\n",
       "6.0      85\n",
       "2.0      80\n",
       "1.0      67\n",
       "4.0      65\n",
       "0.0      63\n",
       "5.0      60\n",
       "3.0      49\n",
       "Name: hour, dtype: int64"
      ]
     },
     "execution_count": 27,
     "metadata": {},
     "output_type": "execute_result"
    }
   ],
   "source": [
    "# function for handling exception format\n",
    "def pre_time(x):\n",
    "    if pd.isnull(x):\n",
    "        return x\n",
    "    else:\n",
    "        x = re.sub(\"[.,',\\,]\",\":\",x)\n",
    "        x = re.sub(\"c:?\",\"\",x)\n",
    "        xs = x.split(\":\")\n",
    "        if len(xs) == 1:\n",
    "            return int(xs[0][0:2])\n",
    "        else:    \n",
    "            if len(xs[0]) > 2 :\n",
    "                return int(xs[0][-3:-1])\n",
    "            else :\n",
    "                return int(xs[0])\n",
    "\n",
    "# re-express data on 'Time'columns\n",
    "df['hour'] = df['Time'].map(pre_time)\n",
    "df.tail()\n",
    "df['hour'].value_counts()"
   ]
  }
 ],
 "metadata": {
  "kernelspec": {
   "display_name": "Python 3",
   "language": "python",
   "name": "python3"
  },
  "language_info": {
   "codemirror_mode": {
    "name": "ipython",
    "version": 3
   },
   "file_extension": ".py",
   "mimetype": "text/x-python",
   "name": "python",
   "nbconvert_exporter": "python",
   "pygments_lexer": "ipython3",
   "version": "3.6.0"
  }
 },
 "nbformat": 4,
 "nbformat_minor": 2
}
